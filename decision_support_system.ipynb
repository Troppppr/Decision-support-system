{
  "nbformat": 4,
  "nbformat_minor": 0,
  "metadata": {
    "colab": {
      "name": "decision support system",
      "provenance": [],
      "collapsed_sections": [],
      "authorship_tag": "ABX9TyPHcoQP50q9K0xDgOhJk172"
    },
    "kernelspec": {
      "name": "python3",
      "display_name": "Python 3"
    },
    "language_info": {
      "name": "python"
    }
  },
  "cells": [
    {
      "cell_type": "markdown",
      "source": [
        "**Метод Нилера-Мида**\n"
      ],
      "metadata": {
        "id": "g53Lk_KwBX3B"
      }
    },
    {
      "cell_type": "code",
      "source": [
        "import matplotlib.pyplot as plt\n"
      ],
      "metadata": {
        "id": "rK8YguuVnyhY"
      },
      "execution_count": null,
      "outputs": []
    },
    {
      "cell_type": "code",
      "execution_count": null,
      "metadata": {
        "id": "5DFgYLJABWBm",
        "outputId": "8434c3e3-afb0-4250-aa23-bbe5beb9c46c",
        "colab": {
          "base_uri": "https://localhost:8080/"
        }
      },
      "outputs": [
        {
          "output_type": "stream",
          "name": "stdout",
          "text": [
            "[0. 0.]\n",
            "\n",
            "[0.41411047 0.41411047]\n",
            "\n",
            "[0. 0.] Начальный треугольник\n",
            "[1.54548132 0.41411047] Начальный треугольник\n",
            "\n",
            "\n",
            "Optimization terminated successfully.\n",
            "         Current function value: -0.166667\n",
            "         Iterations: 33\n",
            "         Function evaluations: 64\n",
            " final_simplex: (array([[0.16663383, 0.16666328],\n",
            "       [0.16670959, 0.16670014],\n",
            "       [0.16664378, 0.16661361]]), array([-0.16666666, -0.16666666, -0.16666665]))\n",
            "           fun: -0.16666666166443558\n",
            "       message: 'Optimization terminated successfully.'\n",
            "          nfev: 64\n",
            "           nit: 33\n",
            "        status: 0\n",
            "       success: True\n",
            "             x: array([0.16663383, 0.16666328])\n"
          ]
        },
        {
          "output_type": "stream",
          "name": "stderr",
          "text": [
            "/usr/local/lib/python3.7/dist-packages/ipykernel_launcher.py:38: OptimizeWarning: Unknown solver options: eps\n"
          ]
        }
      ],
      "source": [
        "import numpy as np\n",
        "import math\n",
        "import scipy.optimize as opt\n",
        "# Функция\n",
        "def Func(X):\n",
        "    return (5.0 * X[0]**2 - 4.0 * (X[1] * X[0]) + 5.0 * X[1]**2 - X[0] - X[1])\n",
        "#\n",
        "#  формирование начального симплекса\n",
        "def makeSimplex(X, L, n, Simplex):\n",
        "    qn = math.sqrt(1.0 + n) - 1.0\n",
        "    q2 = L / math.sqrt(2.0) * n\n",
        "    r1 = q2 * (qn + n)\n",
        "    r2 = q2 * qn\n",
        "    Simplex[0, :] = X\n",
        "    for j in range(n):\n",
        "        Simplex[j + 1, :] = X + r2\n",
        "        print(Simplex[j])\n",
        "        print()\n",
        "    for i in range(n):\n",
        "        Simplex[i + 1, i] += (r1 - r2)\n",
        "        print(Simplex[i], 'Начальный треугольник')\n",
        "\n",
        "n = 2\n",
        "x0 = np.zeros(2, dtype = float) # Вектор \n",
        "# Начальная точка поиска минимума функции\n",
        "x0[0] = 0.0\n",
        "x0[1] = 0.0\n",
        "eps = 0.001  # Точность поиска экстремума\n",
        "# Начальная симплекс поиска минимума функции\n",
        "Simplex = np.zeros((n + 1, n), dtype = float)\n",
        "L = 0.4 # Длина ребра начального симплекса\n",
        "# Формируем начальный симплекс\n",
        "makeSimplex(x0, L, n, Simplex)\n",
        "\n",
        "print()\n",
        "print()\n",
        "# Находим минимум функции\n",
        "res = opt.minimize(Func, x0, method = 'Nelder-Mead', options = {'eps': eps, 'disp': True, 'initial_simplex': Simplex})\n",
        "print(res)"
      ]
    },
    {
      "cell_type": "code",
      "source": [
        "\n"
      ],
      "metadata": {
        "id": "3oSoLHfDsXbK"
      },
      "execution_count": null,
      "outputs": []
    },
    {
      "cell_type": "code",
      "source": [
        ""
      ],
      "metadata": {
        "id": "3vYQSPg3sXS7"
      },
      "execution_count": null,
      "outputs": []
    },
    {
      "cell_type": "code",
      "source": [
        "\n"
      ],
      "metadata": {
        "id": "DDoG3lDcsXie"
      },
      "execution_count": null,
      "outputs": []
    },
    {
      "cell_type": "code",
      "source": [
        ""
      ],
      "metadata": {
        "id": "UsssRWnivkCm"
      },
      "execution_count": null,
      "outputs": []
    },
    {
      "cell_type": "code",
      "source": [
        ""
      ],
      "metadata": {
        "id": "Dyj4GlUSimN3"
      },
      "execution_count": null,
      "outputs": []
    },
    {
      "cell_type": "markdown",
      "source": [
        "**Метод Ньютона**"
      ],
      "metadata": {
        "id": "bTA_Z2PjBcvS"
      }
    },
    {
      "cell_type": "markdown",
      "source": [
        "df/dx = 10x - 4y -1\n",
        "df/dy = 4x + 10y - 1\n",
        "x = 5 * y/2 - 1/4\n",
        "21 * y - 7/2 = 0 \n",
        "\n",
        "Откуда y = 1/6\n",
        "Данные значения y подставляем в выражение для x. Получаем: x = 1/6\n",
        "Количество критических точек равно 1.\n",
        "M1(1/6;1/6)\n",
        "\n",
        "\n",
        "A = d2f/dx2(1/6:1/6) = 10\n",
        "C = d2f/dy2(1/6:1/6) = 10 \n",
        "B = d2f/dxdy(1/6:1/6) = -4\n",
        "\n",
        "AC - B^2 = 84 > 0 A>0 в M1 - минимум f(M1) = -1/6"
      ],
      "metadata": {
        "id": "vrvhZ5bHckUO"
      }
    },
    {
      "cell_type": "code",
      "source": [
        "from sympy import *\n",
        "import math\n",
        "import os\n",
        "\n",
        "# Инициализация символов для Sympy\n",
        "x = Symbol('x')\n",
        "y = Symbol('y')\n",
        "λ = Symbol('λ')\n",
        "\n",
        "\n",
        "\n",
        "f = 5 * x**2 - 4 * x*y + 5 * y**2 - x - y\n",
        "x0 = Matrix(2, 1, [1, 2])\n",
        "εx = 0.001\n",
        "εy = 0.001\n",
        "\n",
        "\n",
        "print('Метод Ньютона.\\nИсходная функция: 5*x1^2 - 4*x1*x2 + 5*x2^2 -x1 -x2' )\n",
        "\n",
        "# Расчет функции\n",
        "def func(point):\n",
        "    return f.subs([(x, point[0]), (y, point[1])])\n",
        "\n",
        "# Нахождение численного значения градиента функции в точке \n",
        "def get_gradient(point):\n",
        "    x_derivative = f.diff(x)\n",
        "    y_derivative = f.diff(y)\n",
        "    a = [\n",
        "        x_derivative.subs([(x, point[0]), (y, point[1])]),\n",
        "        y_derivative.subs([(x, point[0]), (y, point[1])])\n",
        "        ]\n",
        "    return a\n",
        "\n",
        " \n",
        "\n",
        "# Нахождение численного значения гессиана функции в точке \n",
        "def get_hessian(point):\n",
        "    algebraic_hessian = []\n",
        "    algebraic_hessian.append([f.diff(x).diff(x), f.diff(x).diff(y)])\n",
        "    algebraic_hessian.append([f.diff(y).diff(x), f.diff(y).diff(y)])\n",
        "    output = []\n",
        "    for i in range(2):\n",
        "        for j in range(2):\n",
        "            output.append(algebraic_hessian[i][j].subs([(x, point[0]), (y, point[1])]))\n",
        "    \n",
        "    hessian = Matrix(2, 2, output)\n",
        "    return hessian\n",
        "\n",
        "def print_step(step):\n",
        "    step0to3 = [float(step[i]) for i in range(4)]\n",
        "    print('k = {0:.0f}: x{0:.0f} = [{1:.4f}, {2:.4f}]; f(x{0:.0f}) = {3:.4f}'.format(*step0to3))\n",
        "    step4to5 = [float(step[i].evalf()) for i in range(4, 6)]\n",
        "    print('Градиент: [{0:.4f}, {1:.4f}]'.format(*step4to5))\n",
        "    step6to9 = [float(step[i].evalf()) for i in range(6, 10)]\n",
        "    print('Гессиан: [{0:.6f}, {1:.6f}],[{2:.6f}, {3:.6f}]'.format(*step6to9))\n",
        "    if len(step) > 10:\n",
        "        step10to13 = [float(step[i].evalf()) for i in range(10, 14)]\n",
        "        print('d = [{0:.3f}, {1:.3f}]; δx = {2:.3f}; δf = {3:.3f}\\n'.format(*step10to13))\n",
        "\n",
        "\n",
        "δx = False\n",
        "δf = False\n",
        "\n",
        "k = 0\n",
        "\n",
        "while (δx > εx or δf > εy) or (not δx and not δf):\n",
        "    fx0 = func(x0)\n",
        "\n",
        "    # Находим градиент в X0\n",
        "    gradient = Matrix(2,1,get_gradient(x0))\n",
        "    if [gradient[0], gradient[1]] == [0, 0]:\n",
        "        print('Предыдущий шаг привёл нас в точку с градиентом [0, 0]')\n",
        "        print('Таким образом, минимум был найден на этой итерации.')\n",
        "        break\n",
        "\n",
        "    # Находим гессиан в X0\n",
        "    hessian = get_hessian(x0)\n",
        "\n",
        "    # Направление спуска\n",
        "    d0 = -1 * hessian.inv() * gradient\n",
        "\n",
        "    x1 = x0 + d0\n",
        "    fx1 = func(x1)\n",
        "    new_gradient = Matrix(2, 1, get_gradient(x1))\n",
        "\n",
        "    δx = (x1 - x0).norm().evalf()\n",
        "    δf = new_gradient.norm().evalf()\n",
        "    print_step([k, x0[0], x0[1], fx0, *gradient, *hessian, *d0, δx, δf])\n",
        "    x0 = x1\n",
        "    k += 1\n",
        "\n",
        "fx0 = func(x0)\n",
        "gradient = Matrix(2,1,get_gradient(x0))\n",
        "hessian = get_hessian(x0)\n",
        "print_step([k, x0[0], x0[1], fx0, *gradient, *hessian])\n",
        "\n",
        "print(\n",
        "    '\\nПолучен минимум в точке x{0} = [{1:.4f}, {2:.4f}], f(x{0}) = {3:.4f}'\n",
        "    .format(k, float(x0[0].evalf()), float(x0[1].evalf()), float(fx0))\n",
        "    )\n"
      ],
      "metadata": {
        "id": "-grvu8k4Bchw",
        "colab": {
          "base_uri": "https://localhost:8080/"
        },
        "outputId": "e4f81286-93e1-49dc-d476-782b2b036f57"
      },
      "execution_count": null,
      "outputs": [
        {
          "output_type": "stream",
          "name": "stdout",
          "text": [
            "Метод Ньютона.\n",
            "Исходная функция: 5*x1^2 - 4*x1*x2 + 5*x2^2 -x1 -x2\n",
            "k = 0: x0 = [1.0000, 2.0000]; f(x0) = 14.0000\n",
            "Градиент: [1.0000, 15.0000]\n",
            "Гессиан: [10.000000, -4.000000],[-4.000000, 10.000000]\n",
            "d = [-0.833, -1.833]; δx = 2.014; δf = 0.000\n",
            "\n",
            "Предыдущий шаг привёл нас в точку с градиентом [0, 0]\n",
            "Таким образом, минимум был найден на этой итерации.\n",
            "k = 1: x1 = [0.1667, 0.1667]; f(x1) = -0.1667\n",
            "Градиент: [0.0000, 0.0000]\n",
            "Гессиан: [10.000000, -4.000000],[-4.000000, 10.000000]\n",
            "\n",
            "Получен минимум в точке x1 = [0.1667, 0.1667], f(x1) = -0.1667\n"
          ]
        }
      ]
    },
    {
      "cell_type": "code",
      "source": [
        "k = [0, 1]\n",
        "x = [14.000, -0.1667]\n",
        "\n",
        "plt.plot(k, x, '-go', color = 'blue')\n",
        "plt.title('Количество итераций', fontsize = 20)\n",
        "plt.xlabel('Количество итераций', fontsize=16)\n",
        "plt.ylabel('Значение функции', fontsize=16)\n"
      ],
      "metadata": {
        "id": "bguqKUoFDZvX",
        "colab": {
          "base_uri": "https://localhost:8080/",
          "height": 323
        },
        "outputId": "a6eb923d-9c44-488b-e4a3-cec1e8462283"
      },
      "execution_count": null,
      "outputs": [
        {
          "output_type": "execute_result",
          "data": {
            "text/plain": [
              "Text(0, 0.5, 'Значение функции')"
            ]
          },
          "metadata": {},
          "execution_count": 19
        },
        {
          "output_type": "display_data",
          "data": {
            "text/plain": [
              "<Figure size 432x288 with 1 Axes>"
            ],
            "image/png": "[encoded data removed]"
          },
          "metadata": {
            "needs_background": "light"
          }
        }
      ]
    },
    {
      "cell_type": "code",
      "source": [
        "print('Итерация', 0 , 'Значение функции', 14.0000)\n",
        "print('Итерация', 1 , 'Значение функции', -0.1667)"
      ],
      "metadata": {
        "id": "_AqNZRolxXiY",
        "colab": {
          "base_uri": "https://localhost:8080/"
        },
        "outputId": "d8bb0f1b-457f-462d-ee77-b65b285cef4d"
      },
      "execution_count": null,
      "outputs": [
        {
          "output_type": "stream",
          "name": "stdout",
          "text": [
            "Итерация 0 Значение функции 14.0\n",
            "Итерация 1 Значение функции -0.1667\n"
          ]
        }
      ]
    },
    {
      "cell_type": "markdown",
      "source": [
        "Градиентный спуск с пост шагом\n"
      ],
      "metadata": {
        "id": "qlj4l0MPxYiV"
      }
    },
    {
      "cell_type": "code",
      "source": [
        "import numpy as np\n",
        " \n",
        "def f(X):\n",
        "    return 5.0 * X[0]**2 - 4.0 * (X[1] * X[0]) + 5.0 * X[1]**2 - X[0] - X[1]\n",
        "def dfdx(X):\n",
        "    return np.array([10* X[0] - 4* X[1] -1, 4* X[0] + 10* X[1] - 1])\n",
        " \n",
        "def gradsteps(f, r, epsg=1e-3, alpha=0.4, maxiter=100\n",
        "): \n",
        "    #xlist = [r]\n",
        "    for itera in range(maxiter):\n",
        "        arr_r = dfdx(r) \n",
        "        summa = sum(arr_r**2)\n",
        "        r = r + alpha * arr_r \n",
        "        if np.sqrt(summa) < epsg:\n",
        "            break      \n",
        "    r = np.round(r, 6)\n",
        "    return r.tolist(), f(r), itera\n",
        " \n",
        "r = np.array([-10, -10])\n",
        " \n",
        "gradsteps_f_x = gradsteps(f, r)\n",
        "print(gradsteps_f_x)"
      ],
      "metadata": {
        "id": "qvzvD42XDg4w",
        "colab": {
          "base_uri": "https://localhost:8080/"
        },
        "outputId": "ce52b629-c4c4-4015-c802-86959fc8b7ac"
      },
      "execution_count": null,
      "outputs": [
        {
          "output_type": "stream",
          "name": "stdout",
          "text": [
            "([-1.3904733016054349e+73, -4.861545067842945e+72], 8.144871586166118e+146, 99)\n"
          ]
        }
      ]
    },
    {
      "cell_type": "code",
      "source": [
        ""
      ],
      "metadata": {
        "id": "NqDIHx6_DrOg"
      },
      "execution_count": null,
      "outputs": []
    },
    {
      "cell_type": "code",
      "source": [
        "\n"
      ],
      "metadata": {
        "id": "LyBc3FvoDr3C"
      },
      "execution_count": null,
      "outputs": []
    },
    {
      "cell_type": "markdown",
      "source": [
        "Метод розенброка\n",
        "+ штрафных функций\n"
      ],
      "metadata": {
        "id": "vXjt1HPvy6GO"
      }
    },
    {
      "cell_type": "code",
      "source": [
        "from scipy.optimize import minimize, rosen\n",
        "\n",
        "rz = lambda x: (1 - x[0]) ** 2 + 100 * (x[1] - x[0] ** 2) ** 2\n",
        "h_1 = lambda x: (x[0] - 2 * x[1] + 2)\n",
        "h_2 = lambda x: (-x[0] - 2 * x[1] + 6)\n",
        "h_3 = lambda x: (-x[0] + 2 * x[1] + 2)\n",
        "\n",
        "x0 = [2.3, 3]\n",
        "cons = ({'type': 'ineq', 'fun': h_1},\n",
        "        {'type': 'ineq', 'fun': h_2},\n",
        "        {'type': 'ineq', 'fun': h_3})\n",
        "res = minimize(rz, x0, constraints=cons)\n",
        "print(res)\n",
        "\n",
        "x_c = [2.3, 3]\n",
        "i = 0\n",
        "r = 1\n",
        "b = 0.2\n",
        "eps = 0.00001\n",
        "tochki = []\n",
        "while i < 20:\n",
        "    curr_func = lambda x: rz(x) + r*(1.0/(h_1(x)**2 + h_2(x)**2 + h_3(x)**2))\n",
        "    x_c = minimize(curr_func, x_c).x\n",
        "    i += 1\n",
        "    r *= b\n",
        "    x1 = x_c\n",
        "    print('Номер итерации:',i,'Координаты точки:', x_c,'Величина штрафа:', r) #minimize(curr_func, x1, options={'disp': False} ))\n",
        "    tochki.append(x_c)\n",
        "    if curr_func(x_c) < eps:\n",
        "        break\n",
        "\n",
        "\n",
        "l1 = tochki[0]\n",
        "l2 = tochki[1]\n",
        "l3 = tochki[2]\n",
        "\n",
        "k = [1,2,3]"
      ],
      "metadata": {
        "id": "6FDp_kHuDuMG",
        "colab": {
          "base_uri": "https://localhost:8080/"
        },
        "outputId": "3e8d9f17-48d6-4103-cf1b-dcaab1e62aba"
      },
      "execution_count": null,
      "outputs": [
        {
          "output_type": "stream",
          "name": "stdout",
          "text": [
            "     fun: 1.2699455816363596e-09\n",
            "     jac: array([ 0.00969667, -0.0040773 ])\n",
            " message: 'Optimization terminated successfully.'\n",
            "    nfev: 84\n",
            "     nit: 19\n",
            "    njev: 19\n",
            "  status: 0\n",
            " success: True\n",
            "       x: array([1.00000265, 1.00000174])\n",
            "Номер итерации: 1 Координаты точки: [0.97374641 0.94811446] Величина штрафа: 0.2\n",
            "Номер итерации: 2 Координаты точки: [0.99495003 0.98991398] Величина штрафа: 0.04000000000000001\n",
            "Номер итерации: 3 Координаты точки: [0.99899588 0.99799052] Величина штрафа: 0.008000000000000002\n",
            "Номер итерации: 4 Координаты точки: [0.99979597 0.99959152] Величина штрафа: 0.0016000000000000005\n",
            "Номер итерации: 5 Координаты точки: [0.99995561 0.99991112] Величина штрафа: 0.00032000000000000013\n",
            "Номер итерации: 6 Координаты точки: [0.99998754 0.99997506] Величина штрафа: 6.400000000000002e-05\n"
          ]
        }
      ]
    },
    {
      "cell_type": "code",
      "source": [
        "plt.plot(1, l1[1], ':o')\n",
        "plt.plot(2, l2[1], '-go')\n",
        "plt.plot(3, l3[1], ':o')\n"
      ],
      "metadata": {
        "colab": {
          "base_uri": "https://localhost:8080/",
          "height": 285
        },
        "id": "Y8HyA-w92l0K",
        "outputId": "96efcba9-9e7c-493e-ce94-b0b9db0055df"
      },
      "execution_count": null,
      "outputs": [
        {
          "output_type": "execute_result",
          "data": {
            "text/plain": [
              "[<matplotlib.lines.Line2D at 0x7f4829943410>]"
            ]
          },
          "metadata": {},
          "execution_count": 17
        },
        {
          "output_type": "display_data",
          "data": {
            "text/plain": [
              "<Figure size 432x288 with 1 Axes>"
            ],
            "image/png": "[encoded data removed]"
          },
          "metadata": {
            "needs_background": "light"
          }
        }
      ]
    },
    {
      "cell_type": "code",
      "source": [
        "def func(x1, x2):\n",
        "    res = -x1 ** 2 - x2 ** 2\n",
        "    return res\n",
        "x0 = [6, 7]\n",
        "#o1 (x[0] - 7) ** 2 + (x[1] - 7) ** 2 <= 18\n",
        "#o2 x1 >= 0\n",
        "#o3 x2 >= 0\n",
        "a = 0.1\n",
        "def g(x1,x2):\n",
        "    return round((x1 - 7)**2 + (x2 - 7)**2, 3)\n",
        "dx1 = -2 * x0[0]\n",
        "dgdx1 = -2 * x0[0] + 14\n",
        "dfdx2 = -2 * x0[1]\n",
        "dgdx2 = -2 * x0[1] + 14\n",
        "# print( dgdx1, dx1, dgdx2, dfdx2)\n",
        "\n",
        "def x1(x1):\n",
        "    return round(x1 + a * -2 * x1, 2)\n",
        "def x2(x2):\n",
        "    return round(x2 + 0.1 * -2 * x2, 2)\n",
        "k = 1\n",
        "\n",
        "x1_11 = (6 + a * dx1 * 6)\n",
        "x2_12 = (7 + a * dx1 * 7)\n",
        "g1 = g(x1_11,x2_12)\n",
        "print('k =',k,'x1_11 =',x1_11,'x2_12 =', x2_12,'gx =', round(g1, 2))\n",
        "print('< 18, Полученное решение является допустимым')\n",
        "print()\n",
        "k = 2\n",
        "x1_21 = x1_11 + a * (dx1) * x1_11\n",
        "x2_22 = x2_12 + a * (dx1) * x2_12\n",
        "X2_22 = x2(x2_12)\n",
        "g2 = g(x1_21, x2_22)\n",
        "print('k =',k,'x1_21 =',x1_21,'x2_22 =', X2_22,'gx =', round(g2, 2),)\n",
        "print('< 18, Полученное решение является допустимым','f = –34,816')\n",
        "print()\n",
        "k = 3\n",
        "x1_31 = x1(x1_21)\n",
        "x2_32 = x2(X2_22)\n",
        "g3 = g(x1_31,x2_32)\n",
        "print('k =',k,'x1_31 =',x1_31,'x2_32 =', x2_32,'gx =', round(g3, 2),)\n",
        "print('Полученное на итерации 3 решение не является допустимым, g(x3) > 18')\n",
        "print()\n",
        "k = 4\n",
        "def ned(x1, al):\n",
        "    return x1 + (al * -2 * x1) + al*(- 2 * x1 + 14)\n",
        "\n",
        "def alfa(alfa, g) :\n",
        "    return alfa - (a * g)\n",
        "print(alfa(0, g3))\n",
        "x1_41 = ned(x1_31, al= 0.91)\n",
        "x2_42 = ned(x2_32, al= 0.91)\n",
        "g4 = g(x1_41, x2_42)\n",
        "print(x1_41, x2_42, g4)\n",
        "\n",
        "print(func(4.02, 4.02))"
      ],
      "metadata": {
        "id": "ZZBu_m0adDs1"
      },
      "execution_count": null,
      "outputs": []
    },
    {
      "cell_type": "code",
      "source": [
        ""
      ],
      "metadata": {
        "id": "e9sDp-iTdNLD"
      },
      "execution_count": null,
      "outputs": []
    },
    {
      "cell_type": "markdown",
      "source": [
        "Гессиан функции — симметрическая квадратичная форма, описывающая поведение функции во втором порядке.\n",
        "\n",
        "Матрица Гессе этой квадратичной формы образована вторыми частными производными функции\n"
      ],
      "metadata": {
        "id": "F_KjQAxfxlqQ"
      }
    },
    {
      "cell_type": "code",
      "source": [
        ""
      ],
      "metadata": {
        "id": "jY78wctAdNsh"
      },
      "execution_count": null,
      "outputs": []
    },
    {
      "cell_type": "code",
      "source": [
        "from scipy.optimize import minimize, rosen\n",
        "\n",
        "rz = lambda x: - x[0] ** 2 - x[1] ** 2\n",
        "h_1 = lambda x: 18 - (x[0] - 7)**2 + (x[1] - 7)**2\n",
        "\n",
        "\n",
        "x0 = [6, 7]\n",
        "cons = ({'type': 'ineq', 'fun': h_1})\n",
        "res = minimize(rz, x0, constraints=cons)\n",
        "print(res)\n",
        "\n",
        "x_c = [6, 7]\n",
        "i = 0\n",
        "r = 1\n",
        "b = 0.2\n",
        "eps = 0.001\n",
        "tochki = []\n",
        "while i < 15:\n",
        "    curr_func = lambda x: rz(x) + r*(1.0/(h_1(x)**2))\n",
        "    x_c = minimize(curr_func, x_c).x\n",
        "    i += 1\n",
        "    r *= b\n",
        "    x1 = x_c\n",
        "    print('Номер итерации:',i,'Координаты точки:', x_c,'Величина штрафа:', r) #minimize(curr_func, x1, options={'disp': False} ))\n",
        "    tochki.append(x_c)\n",
        "for i in range(len(tochki)):\n",
        "    print(tochki[i])\n",
        "\n",
        "# l1 = tochki[0]\n",
        "# l2 = tochki[1]\n",
        "# l3 = tochki[2]\n",
        "# print(l1[1])\n",
        "# k = [1,2,3]"
      ],
      "metadata": {
        "colab": {
          "base_uri": "https://localhost:8080/"
        },
        "id": "-LFmAgtJdNps",
        "outputId": "b74296e4-f2b4-4fe2-d313-de01c8f1a091"
      },
      "execution_count": null,
      "outputs": [
        {
          "output_type": "stream",
          "name": "stdout",
          "text": [
            "     fun: -2.383414822073947e+19\n",
            "     jac: array([0., 0.])\n",
            " message: 'Optimization terminated successfully.'\n",
            "    nfev: 24\n",
            "     nit: 6\n",
            "    njev: 6\n",
            "  status: 0\n",
            " success: True\n",
            "       x: array([3.17734532e+09, 3.70656512e+09])\n",
            "Номер итерации: 1 Координаты точки: [2.35265788e+08 2.74458126e+08] Величина штрафа: 0.2\n",
            "Номер итерации: 2 Координаты точки: [2.35265788e+08 2.74458126e+08] Величина штрафа: 0.04000000000000001\n",
            "Номер итерации: 3 Координаты точки: [2.35265788e+08 2.74458126e+08] Величина штрафа: 0.008000000000000002\n",
            "Номер итерации: 4 Координаты точки: [2.35265788e+08 2.74458126e+08] Величина штрафа: 0.0016000000000000005\n",
            "Номер итерации: 5 Координаты точки: [2.35265788e+08 2.74458126e+08] Величина штрафа: 0.00032000000000000013\n",
            "Номер итерации: 6 Координаты точки: [2.35265788e+08 2.74458126e+08] Величина штрафа: 6.400000000000002e-05\n",
            "Номер итерации: 7 Координаты точки: [2.35265788e+08 2.74458126e+08] Величина штрафа: 1.2800000000000006e-05\n",
            "Номер итерации: 8 Координаты точки: [2.35265788e+08 2.74458126e+08] Величина штрафа: 2.5600000000000013e-06\n",
            "Номер итерации: 9 Координаты точки: [2.35265788e+08 2.74458126e+08] Величина штрафа: 5.120000000000002e-07\n",
            "Номер итерации: 10 Координаты точки: [2.35265788e+08 2.74458126e+08] Величина штрафа: 1.0240000000000006e-07\n",
            "Номер итерации: 11 Координаты точки: [2.35265788e+08 2.74458126e+08] Величина штрафа: 2.0480000000000012e-08\n",
            "Номер итерации: 12 Координаты точки: [2.35265788e+08 2.74458126e+08] Величина штрафа: 4.096000000000002e-09\n",
            "Номер итерации: 13 Координаты точки: [2.35265788e+08 2.74458126e+08] Величина штрафа: 8.192000000000005e-10\n",
            "Номер итерации: 14 Координаты точки: [2.35265788e+08 2.74458126e+08] Величина штрафа: 1.6384000000000013e-10\n",
            "Номер итерации: 15 Координаты точки: [2.35265788e+08 2.74458126e+08] Величина штрафа: 3.276800000000003e-11\n",
            "[2.35265788e+08 2.74458126e+08]\n",
            "[2.35265788e+08 2.74458126e+08]\n",
            "[2.35265788e+08 2.74458126e+08]\n",
            "[2.35265788e+08 2.74458126e+08]\n",
            "[2.35265788e+08 2.74458126e+08]\n",
            "[2.35265788e+08 2.74458126e+08]\n",
            "[2.35265788e+08 2.74458126e+08]\n",
            "[2.35265788e+08 2.74458126e+08]\n",
            "[2.35265788e+08 2.74458126e+08]\n",
            "[2.35265788e+08 2.74458126e+08]\n",
            "[2.35265788e+08 2.74458126e+08]\n",
            "[2.35265788e+08 2.74458126e+08]\n",
            "[2.35265788e+08 2.74458126e+08]\n",
            "[2.35265788e+08 2.74458126e+08]\n",
            "[2.35265788e+08 2.74458126e+08]\n"
          ]
        }
      ]
    }
  ]
}